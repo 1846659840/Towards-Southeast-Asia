{
  "cells": [
    {
      "cell_type": "markdown",
      "metadata": {
        "id": "dT9AQwdf8sJK"
      },
      "source": [
        "\n",
        "\n",
        "---\n",
        "\n"
      ]
    },
    {
      "cell_type": "code",
      "execution_count": 1,
      "metadata": {
        "id": "Qgo-oaI3JU2u",
        "colab": {
          "base_uri": "https://localhost:8080/"
        },
        "outputId": "16d52ae5-c88e-438a-904d-e8088ccad513"
      },
      "outputs": [
        {
          "output_type": "stream",
          "name": "stdout",
          "text": [
            "\n",
            "Done\n"
          ]
        }
      ],
      "source": [
        "#@title <h1>Step1: Setup Wav2Lip</h1>\n",
        "# @markdown * Install dependency\n",
        "# @markdown   * Download pretrained model\n",
        "!rm -rf /content/sample_data\n",
        "!mkdir /content/sample_data\n",
        "\n",
        "!git clone https://github.com/zabique/Wav2Lip\n",
        "\n",
        "#download the pretrained model\n",
        "!wget 'https://iiitaphyd-my.sharepoint.com/personal/radrabha_m_research_iiit_ac_in/_layouts/15/download.aspx?share=EdjI7bZlgApMqsVoEUUXpLsBxqXbn5z8VTmoxp55YNDcIA' -O '/content/Wav2Lip/checkpoints/wav2lip_gan.pth'\n",
        "a = !pip install https://raw.githubusercontent.com/AwaleSajil/ghc/master/ghc-1.0-py3-none-any.whl\n",
        "\n",
        "# !pip uninstall tensorflow tensorflow-gpu\n",
        "!cd Wav2Lip && pip install -r requirements.txt\n",
        "\n",
        "#download pretrained model for face detection\n",
        "!wget \"https://www.adrianbulat.com/downloads/python-fan/s3fd-619a316812.pth\" -O \"/content/Wav2Lip/face_detection/detection/sfd/s3fd.pth\"\n",
        "\n",
        "!pip install -q youtube-dl\n",
        "!pip install ffmpeg-python\n",
        "!pip install librosa==0.9.1\n",
        "\n",
        "#this code for recording audio\n",
        "\"\"\"\n",
        "To write this piece of code I took inspiration/code from a lot of places.\n",
        "It was late night, so I'm not sure how much I created or just copied o.O\n",
        "Here are some of the possible references:\n",
        "https://blog.addpipe.com/recording-audio-in-the-browser-using-pure-html5-and-minimal-javascript/\n",
        "https://stackoverflow.com/a/18650249\n",
        "https://hacks.mozilla.org/2014/06/easy-audio-capture-with-the-mediarecorder-api/\n",
        "https://air.ghost.io/recording-to-an-audio-file-using-html5-and-js/\n",
        "https://stackoverflow.com/a/49019356\n",
        "\"\"\"\n",
        "from IPython.display import HTML, Audio\n",
        "from google.colab.output import eval_js\n",
        "from base64 import b64decode\n",
        "import numpy as np\n",
        "from scipy.io.wavfile import read as wav_read\n",
        "import io\n",
        "import ffmpeg\n",
        "\n",
        "from IPython.display import clear_output\n",
        "clear_output()\n",
        "print(\"\\nDone\")"
      ]
    },
    {
      "cell_type": "markdown",
      "source": [
        "下面两块不用动"
      ],
      "metadata": {
        "id": "L9oPQspc5EgU"
      }
    },
    {
      "cell_type": "markdown",
      "metadata": {
        "id": "vzokJMO19IyY"
      },
      "source": [
        "\n",
        "\n",
        "---\n",
        "\n"
      ]
    },
    {
      "cell_type": "markdown",
      "metadata": {
        "id": "9bDRYsfXTzXD"
      },
      "source": [
        "\n",
        "\n",
        "---\n",
        "\n"
      ]
    },
    {
      "cell_type": "code",
      "execution_count": 4,
      "metadata": {
        "id": "jR5utmDMcSZY",
        "colab": {
          "base_uri": "https://localhost:8080/"
        },
        "outputId": "366fb070-e482-460c-92d2-4f8a19070570"
      },
      "outputs": [
        {
          "output_type": "stream",
          "name": "stdout",
          "text": [
            "Using cuda for inference.\n",
            "Reading video frames...\n",
            "^C\n"
          ]
        }
      ],
      "source": [
        "\n",
        "!cd Wav2Lip && python inference.py --checkpoint_path checkpoints/wav2lip_gan.pth --face \"/content/drive/MyDrive/Moc影片摘要生成/class01.mp4\" --audio \"/content/drive/MyDrive/Moc影片摘要生成/class01.WAV\""
      ]
    },
    {
      "cell_type": "code",
      "execution_count": null,
      "metadata": {
        "id": "WxbzXZvLliiA"
      },
      "outputs": [],
      "source": [
        "#@title 3.Play result video -  50% scaling\n",
        "from IPython.display import HTML\n",
        "from base64 import b64encode\n",
        "mp4 = open('/content/Wav2Lip/results/result_voice.mp4','rb').read()\n",
        "data_url = \"data:video/mp4;base64,\" + b64encode(mp4).decode()\n",
        "HTML(f\"\"\"\n",
        "<video width=\"50%\" height=\"50%\" controls>\n",
        "      <source src=\"{data_url}\" type=\"video/mp4\">\n",
        "</video>\"\"\")"
      ]
    },
    {
      "cell_type": "markdown",
      "source": [
        "连接谷歌云端"
      ],
      "metadata": {
        "id": "SAp9-tVj5Jk0"
      }
    },
    {
      "cell_type": "code",
      "source": [
        "from google.colab import drive\n",
        "drive.mount('/content/drive')"
      ],
      "metadata": {
        "colab": {
          "base_uri": "https://localhost:8080/"
        },
        "id": "RGwWG4GagcYb",
        "outputId": "78885344-089e-4a95-df1a-8215db652178"
      },
      "execution_count": 2,
      "outputs": [
        {
          "output_type": "stream",
          "name": "stdout",
          "text": [
            "Mounted at /content/drive\n"
          ]
        }
      ]
    },
    {
      "cell_type": "markdown",
      "source": [
        "友喜"
      ],
      "metadata": {
        "id": "pkhQNwxV4_p8"
      }
    },
    {
      "cell_type": "code",
      "source": [
        "import os\n",
        "import subprocess\n",
        "import shutil\n",
        "\n",
        "# 设置视频和音频输入文件夹路径\n",
        "video_folder = '/content/drive/MyDrive/LEEvideo'\n",
        "audio_folder = '/content/drive/MyDrive/LEEvoice'\n",
        "output_folder = '/content/output'\n",
        "wav2lip_dir = '/content/Wav2Lip'  # Wav2Lip目录的路径\n",
        "wav2lip_checkpoint = '/content/Wav2Lip/checkpoints/wav2lip_gan.pth'\n",
        "\n",
        "# 确保输出文件夹存在\n",
        "if not os.path.exists(output_folder):\n",
        "    os.makedirs(output_folder)\n",
        "\n",
        "# 获取视频和音频文件夹中的所有文件名（不包括文件扩展名）\n",
        "video_files = {os.path.splitext(file)[0] for file in os.listdir(video_folder) if file.endswith(\".mp4\")}\n",
        "audio_files = {os.path.splitext(file)[0] for file in os.listdir(audio_folder) if file.endswith(\".wav\")}\n",
        "\n",
        "# 找出匹配的文件名\n",
        "matched_files = video_files.intersection(audio_files)\n",
        "\n",
        "# 对于每个匹配的文件名，执行嘴型同步处理\n",
        "for file_name in matched_files:\n",
        "    video_path = os.path.join(video_folder, f\"{file_name}.mp4\")\n",
        "    audio_path = os.path.join(audio_folder, f\"{file_name}.wav\")\n",
        "    temp_output_video_path = os.path.join(wav2lip_dir, 'results/result_voice.mp4')\n",
        "    final_output_video_path = os.path.join(output_folder, f\"{file_name}.mp4\")\n",
        "\n",
        "    # 构建Wav2Lip命令\n",
        "    command = [\n",
        "        'python', 'inference.py',\n",
        "        '--checkpoint_path', wav2lip_checkpoint,\n",
        "        '--face', video_path,\n",
        "        '--audio', audio_path,\n",
        "        '--outfile', temp_output_video_path\n",
        "    ]\n",
        "\n",
        "    # 切换到Wav2Lip目录并运行命令\n",
        "    os.chdir(wav2lip_dir)\n",
        "    subprocess.run(command)\n",
        "\n",
        "    # 将结果视频文件移动并重命名到输出文件夹\n",
        "    if os.path.exists(temp_output_video_path):\n",
        "        shutil.move(temp_output_video_path, final_output_video_path)\n",
        "\n",
        "print(\"处理完成！\")"
      ],
      "metadata": {
        "colab": {
          "base_uri": "https://localhost:8080/"
        },
        "id": "irtWy2NB1iqM",
        "outputId": "49ed8c78-8fcd-47d3-abe9-904bb99836a8"
      },
      "execution_count": null,
      "outputs": [
        {
          "output_type": "stream",
          "name": "stdout",
          "text": [
            "处理完成！\n"
          ]
        }
      ]
    },
    {
      "cell_type": "markdown",
      "source": [
        "AITT"
      ],
      "metadata": {
        "id": "eWfKIqRk49XB"
      }
    },
    {
      "cell_type": "code",
      "source": [
        "import os\n",
        "import subprocess\n",
        "import shutil\n",
        "import re  # 导入正则表达式库\n",
        "\n",
        "# 设置媒体输入文件夹路径和输出文件夹路径\n",
        "media_folder = '/content/drive/MyDrive/Moc影片摘要生成/seg1'  # 包含视频和音频文件的文件夹\n",
        "google_drive_output_folder = '/content/drive/MyDrive/Moc影片摘要生成/class1'  # 输出文件夹在Google云端硬盘中的路径\n",
        "wav2lip_dir = '/content/Wav2Lip'  # Wav2Lip目录的路径\n",
        "wav2lip_checkpoint = '/content/Wav2Lip/checkpoints/wav2lip_gan.pth'\n",
        "\n",
        "# 确保Google云端硬盘输出文件夹存在\n",
        "if not os.path.exists(google_drive_output_folder):\n",
        "    os.makedirs(google_drive_output_folder)\n",
        "\n",
        "# 从文件夹中获取所有视频文件名\n",
        "video_files = {file for file in os.listdir(media_folder) if file.endswith(\".mp4\")}\n",
        "# 从文件夹中获取所有音频文件名\n",
        "audio_files = {file for file in os.listdir(media_folder) if file.endswith(\".wav\")}\n",
        "\n",
        "# 提取文件名中的数字并进行匹配\n",
        "for video_file in video_files:\n",
        "    video_number = re.search(r'\\d+', video_file).group()  # 提取视频文件名中的数字\n",
        "    for audio_file in audio_files:\n",
        "        if re.search(r'\\d+', audio_file).group() == video_number:  # 检查数字是否匹配\n",
        "            video_path = os.path.join(media_folder, video_file)\n",
        "            audio_path = os.path.join(media_folder, audio_file)\n",
        "            file_name = f\"segment{video_number}\"\n",
        "            temp_output_video_path = os.path.join(wav2lip_dir, 'results/result_voice.mp4')\n",
        "            final_output_video_path = os.path.join(google_drive_output_folder, f\"{file_name}.mp4\")\n",
        "\n",
        "            # 构建Wav2Lip命令\n",
        "            command = [\n",
        "                'python', 'inference.py',\n",
        "                '--checkpoint_path', wav2lip_checkpoint,\n",
        "                '--face', video_path,\n",
        "                '--audio', audio_path,\n",
        "                '--outfile', temp_output_video_path\n",
        "            ]\n",
        "\n",
        "            # 切换到Wav2Lip目录并运行命令\n",
        "            os.chdir(wav2lip_dir)\n",
        "            subprocess.run(command)\n",
        "\n",
        "            # 将结果视频文件移动并重命名到Google云端硬盘的输出文件夹\n",
        "            if os.path.exists(temp_output_video_path):\n",
        "                shutil.move(temp_output_video_path, final_output_video_path)\n",
        "            break  # 匹配到之后就跳出循环，继续下一个视频文件\n",
        "\n",
        "print(\"处理完成！\")\n",
        "\n",
        "\n"
      ],
      "metadata": {
        "id": "v6wtdJyH0uy8"
      },
      "execution_count": null,
      "outputs": []
    },
    {
      "cell_type": "code",
      "source": [],
      "metadata": {
        "id": "a2gLNA7l0wHS"
      },
      "execution_count": null,
      "outputs": []
    },
    {
      "cell_type": "markdown",
      "metadata": {
        "id": "BgMkHOFqT2fK"
      },
      "source": [
        "\n",
        "\n",
        "---\n",
        "\n"
      ]
    },
    {
      "cell_type": "markdown",
      "metadata": {
        "id": "q9NvwrJ3vRcs"
      },
      "source": [
        "\n",
        "\n",
        "---\n",
        "\n"
      ]
    }
  ],
  "metadata": {
    "accelerator": "GPU",
    "colab": {
      "provenance": [],
      "gpuType": "T4",
      "machine_shape": "hm"
    },
    "kernelspec": {
      "display_name": "Python 3",
      "name": "python3"
    }
  },
  "nbformat": 4,
  "nbformat_minor": 0
}