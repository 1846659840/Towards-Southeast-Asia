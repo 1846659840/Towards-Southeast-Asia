{
 "cells": [
  {
   "cell_type": "code",
   "execution_count": 1,
   "id": "1aed2c5d",
   "metadata": {},
   "outputs": [
    {
     "name": "stdout",
     "output_type": "stream",
     "text": [
      "Requirement already satisfied: moviepy in c:\\users\\wmnl\\anaconda3\\lib\\site-packages (1.0.3)\n",
      "Requirement already satisfied: decorator<5.0,>=4.0.2 in c:\\users\\wmnl\\anaconda3\\lib\\site-packages (from moviepy) (4.4.2)\n",
      "Requirement already satisfied: tqdm<5.0,>=4.11.2 in c:\\users\\wmnl\\anaconda3\\lib\\site-packages (from moviepy) (4.65.0)\n",
      "Requirement already satisfied: requests<3.0,>=2.8.1 in c:\\users\\wmnl\\anaconda3\\lib\\site-packages (from moviepy) (2.28.2)\n",
      "Requirement already satisfied: proglog<=1.0.0 in c:\\users\\wmnl\\anaconda3\\lib\\site-packages (from moviepy) (0.1.10)\n",
      "Requirement already satisfied: numpy>=1.17.3 in c:\\users\\wmnl\\anaconda3\\lib\\site-packages (from moviepy) (1.24.2)\n",
      "Requirement already satisfied: imageio<3.0,>=2.5 in c:\\users\\wmnl\\anaconda3\\lib\\site-packages (from moviepy) (2.31.4)\n",
      "Requirement already satisfied: imageio-ffmpeg>=0.2.0 in c:\\users\\wmnl\\anaconda3\\lib\\site-packages (from moviepy) (0.4.9)\n",
      "Requirement already satisfied: pillow>=8.3.2 in c:\\users\\wmnl\\anaconda3\\lib\\site-packages (from imageio<3.0,>=2.5->moviepy) (10.0.1)\n",
      "Requirement already satisfied: setuptools in c:\\users\\wmnl\\anaconda3\\lib\\site-packages (from imageio-ffmpeg>=0.2.0->moviepy) (68.0.0)\n",
      "Requirement already satisfied: charset-normalizer<4,>=2 in c:\\users\\wmnl\\anaconda3\\lib\\site-packages (from requests<3.0,>=2.8.1->moviepy) (2.0.4)\n",
      "Requirement already satisfied: idna<4,>=2.5 in c:\\users\\wmnl\\appdata\\roaming\\python\\python311\\site-packages (from requests<3.0,>=2.8.1->moviepy) (2.10)\n",
      "Requirement already satisfied: urllib3<1.27,>=1.21.1 in c:\\users\\wmnl\\anaconda3\\lib\\site-packages (from requests<3.0,>=2.8.1->moviepy) (1.26.16)\n",
      "Requirement already satisfied: certifi>=2017.4.17 in c:\\users\\wmnl\\appdata\\roaming\\python\\python311\\site-packages (from requests<3.0,>=2.8.1->moviepy) (2022.12.7)\n",
      "Requirement already satisfied: colorama in c:\\users\\wmnl\\anaconda3\\lib\\site-packages (from tqdm<5.0,>=4.11.2->moviepy) (0.4.6)\n",
      "Collecting ffmpeg\n",
      "  Downloading ffmpeg-1.4.tar.gz (5.1 kB)\n",
      "  Preparing metadata (setup.py): started\n",
      "  Preparing metadata (setup.py): finished with status 'done'\n",
      "Building wheels for collected packages: ffmpeg\n",
      "  Building wheel for ffmpeg (setup.py): started\n",
      "  Building wheel for ffmpeg (setup.py): finished with status 'done'\n",
      "  Created wheel for ffmpeg: filename=ffmpeg-1.4-py3-none-any.whl size=6089 sha256=4ab7977ea7d3b18f88d20973b2527f97419da16b58c5679d72c6b8578fd191e3\n",
      "  Stored in directory: c:\\users\\wmnl\\appdata\\local\\pip\\cache\\wheels\\56\\30\\c5\\576bdd729f3bc062d62a551be7fefd6ed2f761901568171e4e\n",
      "Successfully built ffmpeg\n",
      "Installing collected packages: ffmpeg\n",
      "Successfully installed ffmpeg-1.4\n"
     ]
    }
   ],
   "source": [
    "!pip install moviepy\n",
    "!pip install ffmpeg"
   ]
  },
  {
   "cell_type": "code",
   "execution_count": 8,
   "id": "d4da0e14",
   "metadata": {},
   "outputs": [
    {
     "name": "stdout",
     "output_type": "stream",
     "text": [
      "视频分割完成。\n",
      "音频分割完成。\n"
     ]
    }
   ],
   "source": [
    "import subprocess\n",
    "import os\n",
    "\n",
    "# 确保输出目录存在\n",
    "output_dir = r'C:\\Users\\WMNL\\Desktop\\seg2'\n",
    "if not os.path.exists(output_dir):\n",
    "    os.makedirs(output_dir)\n",
    "\n",
    "# 输入视频路径\n",
    "input_video_path = r'C:\\Users\\WMNL\\Desktop\\2\\seg1.mp4'\n",
    "\n",
    "# 视频分割命令\n",
    "video_split_command = [\n",
    "    \"ffmpeg\", \"-i\", input_video_path,\n",
    "    \"-c:v\", \"copy\", \"-an\", \"-segment_time\", \"30\", \"-f\", \"segment\",\n",
    "    os.path.join(output_dir, \"video_segment%03d.mp4\")\n",
    "]\n",
    "\n",
    "# 音频分割命令\n",
    "audio_split_command = [\n",
    "    \"ffmpeg\", \"-i\", input_video_path,\n",
    "    \"-vn\", \"-ar\", \"44100\", \"-ac\", \"2\", \"-acodec\", \"pcm_s16le\", \"-segment_time\", \"30\", \"-f\", \"segment\",\n",
    "    os.path.join(output_dir, \"audio_segment%03d.wav\")\n",
    "]\n",
    "\n",
    "\n",
    "# 执行视频分割命令\n",
    "try:\n",
    "    subprocess.run(video_split_command, check=True)\n",
    "    print(\"视频分割完成。\")\n",
    "except subprocess.CalledProcessError as e:\n",
    "    print(f\"视频分割失败: {e}\")\n",
    "\n",
    "# 执行音频分割命令\n",
    "try:\n",
    "    subprocess.run(audio_split_command, check=True)\n",
    "    print(\"音频分割完成。\")\n",
    "except subprocess.CalledProcessError as e:\n",
    "    print(f\"音频分割失败: {e}\")\n"
   ]
  },
  {
   "cell_type": "code",
   "execution_count": null,
   "id": "0f38ce5f",
   "metadata": {},
   "outputs": [],
   "source": []
  }
 ],
 "metadata": {
  "kernelspec": {
   "display_name": "Python 3 (ipykernel)",
   "language": "python",
   "name": "python3"
  },
  "language_info": {
   "codemirror_mode": {
    "name": "ipython",
    "version": 3
   },
   "file_extension": ".py",
   "mimetype": "text/x-python",
   "name": "python",
   "nbconvert_exporter": "python",
   "pygments_lexer": "ipython3",
   "version": "3.11.5"
  }
 },
 "nbformat": 4,
 "nbformat_minor": 5
}
